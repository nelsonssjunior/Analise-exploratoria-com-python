{
 "cells": [
  {
   "cell_type": "code",
   "execution_count": null,
   "metadata": {},
   "outputs": [],
   "source": [
    "# Utilizando os métodos 'w', 'r' e 'a'\n",
    "# write\n",
    "# read\n",
    "# append"
   ]
  },
  {
   "cell_type": "code",
   "execution_count": 2,
   "metadata": {},
   "outputs": [],
   "source": [
    "# Manipulando pastas no sistema\n",
    "# O comando abre ou cria o arquivo, caso o mesmo não exista\n",
    "\n",
    "arquivo = open('c:\\\\raw\\\\teste.txt','w')\n",
    "\n",
    "# Fechar o arquivo\n",
    "arquivo.close()"
   ]
  },
  {
   "cell_type": "code",
   "execution_count": 8,
   "metadata": {},
   "outputs": [
    {
     "data": {
      "text/plain": [
       "25"
      ]
     },
     "execution_count": 8,
     "metadata": {},
     "output_type": "execute_result"
    }
   ],
   "source": [
    "# Escrever no arquivo\n",
    "\n",
    "arquivo = open('c:\\\\raw\\\\teste.txt','w')\n",
    "\n",
    "arquivo.write('Alguma coisa escrita aqui')"
   ]
  },
  {
   "cell_type": "code",
   "execution_count": 11,
   "metadata": {},
   "outputs": [],
   "source": [
    "arquivo.close()"
   ]
  },
  {
   "cell_type": "code",
   "execution_count": 10,
   "metadata": {},
   "outputs": [
    {
     "data": {
      "text/plain": [
       "'Alguma coisa escrita aqui'"
      ]
     },
     "execution_count": 10,
     "metadata": {},
     "output_type": "execute_result"
    }
   ],
   "source": [
    "# Abrir arquivo no modo leitura e armazenar seu conteudo em uma variável\n",
    "\n",
    "arquivo = open('c:\\\\raw\\\\teste.txt', 'r')\n",
    "\n",
    "conteudo = arquivo.read()\n",
    "\n",
    "conteudo"
   ]
  },
  {
   "cell_type": "code",
   "execution_count": 18,
   "metadata": {},
   "outputs": [],
   "source": [
    "# Ecrevendo uma nova linha\n",
    "\n",
    "arquivo = open('c:\\\\raw\\\\teste.txt', 'w')\n",
    "arquivo.write('Ecrevendo uma nova linha')\n",
    "arquivo.close()"
   ]
  },
  {
   "cell_type": "code",
   "execution_count": 20,
   "metadata": {},
   "outputs": [],
   "source": [
    "# Ecrevendo uma nova linha sem sobrescrever a anterior\n",
    "# com o modo A\n",
    "\n",
    "arquivo = open('c:\\\\raw\\\\teste.txt', 'a')\n",
    "arquivo.write('\\nEcrevendo uma nova linha com append')\n",
    "arquivo.close()"
   ]
  },
  {
   "cell_type": "code",
   "execution_count": 22,
   "metadata": {},
   "outputs": [],
   "source": [
    "# Manipulandoa rquivos com o with\n",
    "\n",
    "with open('c:\\\\raw\\\\teste.txt','w') as arq:\n",
    "    arq.write('Utilizando o WITH')"
   ]
  },
  {
   "cell_type": "code",
   "execution_count": null,
   "metadata": {},
   "outputs": [],
   "source": []
  },
  {
   "cell_type": "code",
   "execution_count": null,
   "metadata": {},
   "outputs": [],
   "source": []
  },
  {
   "cell_type": "code",
   "execution_count": null,
   "metadata": {},
   "outputs": [],
   "source": []
  },
  {
   "cell_type": "code",
   "execution_count": null,
   "metadata": {},
   "outputs": [],
   "source": []
  }
 ],
 "metadata": {
  "kernelspec": {
   "display_name": "Python 3",
   "language": "python",
   "name": "python3"
  },
  "language_info": {
   "codemirror_mode": {
    "name": "ipython",
    "version": 3
   },
   "file_extension": ".py",
   "mimetype": "text/x-python",
   "name": "python",
   "nbconvert_exporter": "python",
   "pygments_lexer": "ipython3",
   "version": "3.7.9"
  }
 },
 "nbformat": 4,
 "nbformat_minor": 4
}
