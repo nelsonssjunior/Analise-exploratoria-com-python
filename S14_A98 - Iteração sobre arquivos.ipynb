{
 "cells": [
  {
   "cell_type": "code",
   "execution_count": 1,
   "metadata": {},
   "outputs": [],
   "source": [
    "# importando a bilbioteca\n",
    "\n",
    "import os\n",
    "\n",
    "# entrar no diretorio\n",
    "os.chdir('c:\\\\raw')"
   ]
  },
  {
   "cell_type": "code",
   "execution_count": 2,
   "metadata": {},
   "outputs": [],
   "source": [
    "with open('c:\\\\raw\\\\teste.txt','w') as arq:\n",
    "    arq.write('Utilizando WITH')"
   ]
  },
  {
   "cell_type": "code",
   "execution_count": 5,
   "metadata": {},
   "outputs": [
    {
     "data": {
      "text/plain": [
       "['dados', 'teste.csv']"
      ]
     },
     "execution_count": 5,
     "metadata": {},
     "output_type": "execute_result"
    }
   ],
   "source": [
    "# Renomear arquivos\n",
    "\n",
    "os.rename('teste.txt', 'teste.csv')\n",
    "\n",
    "os.listdir()"
   ]
  },
  {
   "cell_type": "code",
   "execution_count": 6,
   "metadata": {},
   "outputs": [],
   "source": [
    "arquivo = 'teste.csv'"
   ]
  },
  {
   "cell_type": "code",
   "execution_count": 9,
   "metadata": {},
   "outputs": [
    {
     "data": {
      "text/plain": [
       "'teste'"
      ]
     },
     "execution_count": 9,
     "metadata": {},
     "output_type": "execute_result"
    }
   ],
   "source": [
    "nome = os.path.splitext(arquivo)[0]\n",
    "\n",
    "nome"
   ]
  },
  {
   "cell_type": "code",
   "execution_count": 14,
   "metadata": {},
   "outputs": [
    {
     "data": {
      "text/plain": [
       "'teste.txt'"
      ]
     },
     "execution_count": 14,
     "metadata": {},
     "output_type": "execute_result"
    }
   ],
   "source": [
    "novnome = nome + '.txt'\n",
    "\n",
    "novnome"
   ]
  },
  {
   "cell_type": "code",
   "execution_count": 13,
   "metadata": {},
   "outputs": [
    {
     "data": {
      "text/plain": [
       "['dados', 'teste.txt']"
      ]
     },
     "execution_count": 13,
     "metadata": {},
     "output_type": "execute_result"
    }
   ],
   "source": [
    "os.rename(arquivo,novnome)\n",
    "\n",
    "os.listdir()"
   ]
  },
  {
   "cell_type": "code",
   "execution_count": 15,
   "metadata": {},
   "outputs": [],
   "source": [
    "# Pastas com muitos arquivos\n",
    "# Biblioteca glob, fornece funções para criar losta de arquivos\n",
    "\n",
    "import glob"
   ]
  },
  {
   "cell_type": "code",
   "execution_count": 18,
   "metadata": {},
   "outputs": [],
   "source": [
    "os.chdir('C:\\\\Users\\\\nelson.junior\\\\OneDrive\\\\Python Scripts\\\\Curso Uni_dados_Dta_Science\\\\Iteracao')"
   ]
  },
  {
   "cell_type": "code",
   "execution_count": 19,
   "metadata": {},
   "outputs": [
    {
     "data": {
      "text/plain": [
       "['Arquivo01.docx',\n",
       " 'Arquivo02.xlsx',\n",
       " 'Arquivo03.pptx',\n",
       " 'Avaliacoes.csv',\n",
       " 'Diretoria.csv',\n",
       " 'Faturamento.csv',\n",
       " 'Funcionarios.csv',\n",
       " 'Recursos Humanos.csv',\n",
       " 'Vendedores.csv']"
      ]
     },
     "execution_count": 19,
     "metadata": {},
     "output_type": "execute_result"
    }
   ],
   "source": [
    "os.listdir()"
   ]
  },
  {
   "cell_type": "code",
   "execution_count": 24,
   "metadata": {},
   "outputs": [
    {
     "name": "stdout",
     "output_type": "stream",
     "text": [
      "['Avaliacoes.txt', 'Diretoria.txt', 'Faturamento.txt', 'Funcionarios.txt', 'Recursos Humanos.txt', 'Vendedores.txt']\n"
     ]
    }
   ],
   "source": [
    "# Utilizando o glob\n",
    "\n",
    "txtlist = glob.glob('*.txt')\n",
    "\n",
    "print(txtlist)"
   ]
  },
  {
   "cell_type": "code",
   "execution_count": 25,
   "metadata": {},
   "outputs": [
    {
     "data": {
      "text/plain": [
       "['Arquivo01.docx',\n",
       " 'Arquivo02.xlsx',\n",
       " 'Arquivo03.pptx',\n",
       " 'Avaliacoes.csv',\n",
       " 'Diretoria.csv',\n",
       " 'Faturamento.csv',\n",
       " 'Funcionarios.csv',\n",
       " 'Recursos Humanos.csv',\n",
       " 'Vendedores.csv']"
      ]
     },
     "execution_count": 25,
     "metadata": {},
     "output_type": "execute_result"
    }
   ],
   "source": [
    "# Iterando com a lista\n",
    "\n",
    "for arquivo in txtlist:\n",
    "    nome = os.path.splitext(arquivo)[0]\n",
    "    novonome = nome + '.csv'\n",
    "    os.rename(arquivo,novonome)\n",
    "    \n",
    "os.listdir()"
   ]
  },
  {
   "cell_type": "code",
   "execution_count": null,
   "metadata": {},
   "outputs": [],
   "source": []
  },
  {
   "cell_type": "code",
   "execution_count": null,
   "metadata": {},
   "outputs": [],
   "source": []
  },
  {
   "cell_type": "code",
   "execution_count": null,
   "metadata": {},
   "outputs": [],
   "source": []
  }
 ],
 "metadata": {
  "kernelspec": {
   "display_name": "Python 3",
   "language": "python",
   "name": "python3"
  },
  "language_info": {
   "codemirror_mode": {
    "name": "ipython",
    "version": 3
   },
   "file_extension": ".py",
   "mimetype": "text/x-python",
   "name": "python",
   "nbconvert_exporter": "python",
   "pygments_lexer": "ipython3",
   "version": "3.7.6"
  }
 },
 "nbformat": 4,
 "nbformat_minor": 4
}
