{
 "cells": [
  {
   "cell_type": "code",
   "execution_count": 1,
   "metadata": {},
   "outputs": [],
   "source": [
    "import numpy as np\n",
    "import pandas as pd"
   ]
  },
  {
   "cell_type": "code",
   "execution_count": null,
   "metadata": {},
   "outputs": [],
   "source": [
    "colunas_filmes = ['star_rating','title', 'content_rating', 'genre', 'duration', 'actors_list']\n",
    "\n",
    "file = 'C:\\\\Users\\\\nelson.junior\\\\OneDrive\\\\Python Scripts\\\\Curso Uni_dados_Dta_Science\\\\Movies.csv'\n",
    "filmes = pd.read_csv(file, names = colunas_filmes)\n",
    "filmes.columns"
   ]
  },
  {
   "cell_type": "code",
   "execution_count": null,
   "metadata": {},
   "outputs": [],
   "source": [
    "type(filmes)"
   ]
  },
  {
   "cell_type": "code",
   "execution_count": null,
   "metadata": {},
   "outputs": [],
   "source": [
    "#Filtrando filmes com duração superior a 180 minutos\n",
    "\n",
    "filmes[filmes.duration >= 180]"
   ]
  },
  {
   "cell_type": "markdown",
   "metadata": {},
   "source": [
    "# Aplicando condições and e or\n",
    "\n",
    "Se and, todos precisam atender aos critérios\n",
    "Se or, apenas um dos critérios precisa ser verdadeiro\n",
    "\n",
    "use & em and\n",
    "use | em vez de or\n",
    "\n",
    "adione (parenteses em volta de cada critério específico)"
   ]
  },
  {
   "cell_type": "markdown",
   "metadata": {},
   "source": [
    "#Trazer somente os filmes do gênero drama e com duração superior a 200 minutos"
   ]
  },
  {
   "cell_type": "code",
   "execution_count": null,
   "metadata": {},
   "outputs": [],
   "source": [
    "dramas_longos = filmes[(filmes.duration == 200) & (filmes.genre == 'Drama')]\n",
    "\n",
    "dramas_longos"
   ]
  },
  {
   "cell_type": "markdown",
   "metadata": {},
   "source": [
    "# Trazer somente os filmes do gênero drama OU com duração superior a 200 min"
   ]
  },
  {
   "cell_type": "code",
   "execution_count": null,
   "metadata": {},
   "outputs": [],
   "source": [
    "filmes_longos = filmes[(filmes.duration == 200) | (filmes.genre == 'Drama')]\n",
    "\n",
    "filmes_longos.head(10)"
   ]
  },
  {
   "cell_type": "code",
   "execution_count": null,
   "metadata": {},
   "outputs": [],
   "source": [
    "# Trazer filmes do genero Crime, Drama, Action\n",
    "\n",
    "filmes_longos = filmes[(filmes.genre == 'Crime') | (filmes.genre == 'Drama') | (filmes.genre == 'Action')].head(10)\n",
    "\n",
    "filmes_longos"
   ]
  },
  {
   "cell_type": "code",
   "execution_count": null,
   "metadata": {},
   "outputs": [],
   "source": [
    "filmes_longos.head(10)"
   ]
  },
  {
   "cell_type": "markdown",
   "metadata": {},
   "source": [
    "# Utilizando o método ISIN"
   ]
  },
  {
   "cell_type": "code",
   "execution_count": null,
   "metadata": {},
   "outputs": [],
   "source": [
    "filmes[filmes.star_rating.isin([9.0,9.1,9.2,9.3,9.4,9.5])].head(10)"
   ]
  },
  {
   "cell_type": "code",
   "execution_count": null,
   "metadata": {},
   "outputs": [],
   "source": [
    "filmes[filmes.genre.isin(['Crime','Drama', 'Action'])].head(10)"
   ]
  }
 ],
 "metadata": {
  "kernelspec": {
   "display_name": "Python 3",
   "language": "python",
   "name": "python3"
  },
  "language_info": {
   "codemirror_mode": {
    "name": "ipython",
    "version": 3
   },
   "file_extension": ".py",
   "mimetype": "text/x-python",
   "name": "python",
   "nbconvert_exporter": "python",
   "pygments_lexer": "ipython3",
   "version": "3.7.9"
  }
 },
 "nbformat": 4,
 "nbformat_minor": 4
}
